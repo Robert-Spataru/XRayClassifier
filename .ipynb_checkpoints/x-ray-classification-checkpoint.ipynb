{
 "cells": [
  {
   "cell_type": "code",
   "execution_count": 13,
   "metadata": {
    "ExecuteTime": {
     "end_time": "2024-01-27T19:39:23.193846Z",
     "start_time": "2024-01-27T19:39:23.188718Z"
    }
   },
   "outputs": [],
   "source": [
    "#import python/ML modules\n",
    "\n",
    "import tensorflow as tf\n",
    "from tensorflow import keras\n",
    "from tensorflow.keras.models import Sequential\n",
    "from tensorflow.keras.preprocessing.image import ImageDataGenerator\n",
    "\n",
    "from sklearn.metrics import classification_report\n",
    "from sklearn.metrics import confusion_matrix\n",
    "\n",
    "from tensorflow.keras.callbacks import EarlyStopping\n",
    "from tensorflow.keras import layers\n",
    "\n",
    "import matplotlib.pyplot as plt\n",
    "import numpy"
   ]
  },
  {
   "cell_type": "code",
   "execution_count": 14,
   "metadata": {
    "ExecuteTime": {
     "end_time": "2024-01-27T19:39:23.219911Z",
     "start_time": "2024-01-27T19:39:23.197795Z"
    }
   },
   "outputs": [
    {
     "name": "stdout",
     "output_type": "stream",
     "text": [
      "Found 181 images belonging to 3 classes.\n",
      "Found 46 images belonging to 3 classes.\n"
     ]
    }
   ],
   "source": [
    "#load in image data\n",
    "\n",
    "import os\n",
    "main_folder = 'Covid19-dataset'\n",
    "subfolders = ['test', 'train']\n",
    "#pixel normalizer\n",
    "training_data_generator = ImageDataGenerator(rescale = 1./255, zoom_range = 0.1, rotation_range = 25, width_shift_range = 0.05, height_shift_range=0.05)\n",
    "validation_data_generator = ImageDataGenerator()\n",
    "#set batch size\n",
    "BATCH_SIZE = 32\n",
    "#set up generator for training data\n",
    "training_iterator = training_data_generator.flow_from_directory(directory = os.path.join(main_folder, subfolders[1]), class_mode = 'categorical',color_mode = 'grayscale',batch_size = BATCH_SIZE, classes = ['Covid', 'Normal', 'Viral Pneumonia'])\n",
    "#set up generator for validation data\n",
    "validation_iterator = validation_data_generator.flow_from_directory(directory = os.path.join(main_folder, subfolders[0]), class_mode = 'categorical', color_mode = 'grayscale', batch_size = BATCH_SIZE, classes = ['Covid', 'Normal', 'Viral Pneumonia'])"
   ]
  },
  {
   "cell_type": "code",
   "outputs": [
    {
     "name": "stdout",
     "output_type": "stream",
     "text": [
      "\n",
      "Compiling model...\n",
      "Model: \"sequential_2\"\n",
      "_________________________________________________________________\n",
      " Layer (type)                Output Shape              Param #   \n",
      "=================================================================\n",
      " conv2d_4 (Conv2D)           (None, 84, 84, 5)         130       \n",
      "                                                                 \n",
      " max_pooling2d_4 (MaxPoolin  (None, 42, 42, 5)         0         \n",
      " g2D)                                                            \n",
      "                                                                 \n",
      " dropout_4 (Dropout)         (None, 42, 42, 5)         0         \n",
      "                                                                 \n",
      " conv2d_5 (Conv2D)           (None, 40, 40, 3)         138       \n",
      "                                                                 \n",
      " max_pooling2d_5 (MaxPoolin  (None, 20, 20, 3)         0         \n",
      " g2D)                                                            \n",
      "                                                                 \n",
      " dropout_5 (Dropout)         (None, 20, 20, 3)         0         \n",
      "                                                                 \n",
      " flatten_2 (Flatten)         (None, 1200)              0         \n",
      "                                                                 \n",
      " dense_2 (Dense)             (None, 3)                 3603      \n",
      "                                                                 \n",
      "=================================================================\n",
      "Total params: 3871 (15.12 KB)\n",
      "Trainable params: 3871 (15.12 KB)\n",
      "Non-trainable params: 0 (0.00 Byte)\n",
      "_________________________________________________________________\n"
     ]
    }
   ],
   "source": [
    "#creating a classification neural network model\n",
    "\n",
    "# sequential model\n",
    "model = Sequential()\n",
    "# add input layer with grayscale image shape\n",
    "model.add(tf.keras.Input(shape = (256, 256, 1)))\n",
    "# convolutional hidden layers with relu functions\n",
    "# maxpooling layers and dropout layers as well\n",
    "model.add(layers.Conv2D(5, 5, strides = 3, activation = \"relu\")) \n",
    "model.add(layers.MaxPooling2D(\n",
    "pool_size = (2, 2), strides = (2,2)))\n",
    "model.add(layers.Dropout(0.1))\n",
    "model.add(layers.Conv2D(3, 3, strides = 1, activation = \"relu\")) \n",
    "model.add(layers.MaxPooling2D(\n",
    "pool_size = (2, 2), strides = (2,2)))\n",
    "model.add(layers.Dropout(0.2))\n",
    "\n",
    "# experimenting with extra layers\n",
    "#model.add(tf.keras.layers.Conv2D(3, 3, strides=1, activation=\"relu\"))\n",
    "#model.add(tf.keras.layers.Conv2D(1, 1, strides=1, activation=\"relu\"))\n",
    "#model.add(tf.keras.layers.Dropout(0.1))\n",
    "\n",
    "model.add(layers.Flatten())\n",
    "# output layer with softmax activation function\n",
    "model.add(layers.Dense(3, activation = \"softmax\"))\n",
    "# compile model with Adam optimizer\n",
    "# loss function is categorical crossentropy\n",
    "# metrics are categorical accuracy and AUC\n",
    "print(\"\\nCompiling model...\")\n",
    "model.compile(optimizer = tf.keras.optimizers.legacy.Adam(learning_rate = .001), loss = tf.keras.losses.CategoricalCrossentropy(), metrics = [tf.keras.metrics.CategoricalAccuracy(), tf.keras.metrics.AUC()])\n",
    "# summarize model\n",
    "model.summary()"
   ],
   "metadata": {
    "collapsed": false,
    "ExecuteTime": {
     "end_time": "2024-01-27T19:39:23.269470Z",
     "start_time": "2024-01-27T19:39:23.217459Z"
    }
   },
   "execution_count": 15
  },
  {
   "cell_type": "code",
   "outputs": [
    {
     "name": "stdout",
     "output_type": "stream",
     "text": [
      "Epoch 1/5\n",
      "6/5 [===============================] - ETA: 0s - loss: 1.0933 - categorical_accuracy: 0.3481 - auc_2: 0.5674WARNING:tensorflow:Early stopping conditioned on metric `val_auc` which is not available. Available metrics are: loss,categorical_accuracy,auc_2,val_loss,val_categorical_accuracy,val_auc_2\n",
      "5/5 [==============================] - 1s 131ms/step - loss: 1.0933 - categorical_accuracy: 0.3481 - auc_2: 0.5674 - val_loss: 3.9010 - val_categorical_accuracy: 0.2391 - val_auc_2: 0.3598\n",
      "Epoch 2/5\n",
      "6/5 [===============================] - ETA: 0s - loss: 1.0652 - categorical_accuracy: 0.4807 - auc_2: 0.7377WARNING:tensorflow:Early stopping conditioned on metric `val_auc` which is not available. Available metrics are: loss,categorical_accuracy,auc_2,val_loss,val_categorical_accuracy,val_auc_2\n",
      "5/5 [==============================] - 1s 114ms/step - loss: 1.0652 - categorical_accuracy: 0.4807 - auc_2: 0.7377 - val_loss: 5.8928 - val_categorical_accuracy: 0.2391 - val_auc_2: 0.3793\n",
      "Epoch 3/5\n",
      "6/5 [===============================] - ETA: 0s - loss: 0.9744 - categorical_accuracy: 0.4696 - auc_2: 0.7471WARNING:tensorflow:Early stopping conditioned on metric `val_auc` which is not available. Available metrics are: loss,categorical_accuracy,auc_2,val_loss,val_categorical_accuracy,val_auc_2\n",
      "5/5 [==============================] - 1s 112ms/step - loss: 0.9744 - categorical_accuracy: 0.4696 - auc_2: 0.7471 - val_loss: 9.8226 - val_categorical_accuracy: 0.2826 - val_auc_2: 0.4429\n",
      "Epoch 4/5\n",
      "6/5 [===============================] - ETA: 0s - loss: 0.7747 - categorical_accuracy: 0.6464 - auc_2: 0.8051WARNING:tensorflow:Early stopping conditioned on metric `val_auc` which is not available. Available metrics are: loss,categorical_accuracy,auc_2,val_loss,val_categorical_accuracy,val_auc_2\n",
      "5/5 [==============================] - 1s 112ms/step - loss: 0.7747 - categorical_accuracy: 0.6464 - auc_2: 0.8051 - val_loss: 24.9751 - val_categorical_accuracy: 0.5652 - val_auc_2: 0.6739\n",
      "Epoch 5/5\n",
      "6/5 [===============================] - ETA: 0s - loss: 0.6499 - categorical_accuracy: 0.6298 - auc_2: 0.8408WARNING:tensorflow:Early stopping conditioned on metric `val_auc` which is not available. Available metrics are: loss,categorical_accuracy,auc_2,val_loss,val_categorical_accuracy,val_auc_2\n",
      "5/5 [==============================] - 1s 112ms/step - loss: 0.6499 - categorical_accuracy: 0.6298 - auc_2: 0.8408 - val_loss: 35.9116 - val_categorical_accuracy: 0.5652 - val_auc_2: 0.6739\n",
      "1/1 [==============================] - 0s 33ms/step - loss: 35.9116 - categorical_accuracy: 0.5652 - auc_2: 0.6739\n",
      "Validation Loss: 35.911563873291016\n",
      "Validation Categorical Accuracy: 0.5652173757553101\n",
      "Validation AUC: 0.6739130020141602\n"
     ]
    }
   ],
   "source": [
    "#test out the model\n",
    "\n",
    "epochs = 5\n",
    "early_stopping = EarlyStopping(monitor='val_auc', mode='min', verbose=1, patience=20)\n",
    "\n",
    "\n",
    "history = model.fit(training_iterator, steps_per_epoch=training_iterator.samples/BATCH_SIZE, epochs = 5, validation_data = validation_iterator, validation_steps = validation_iterator.samples/BATCH_SIZE, callbacks=[early_stopping])\n",
    "\n",
    "validation_results = model.evaluate(validation_iterator, steps = validation_iterator.samples/BATCH_SIZE)\n",
    "\n",
    "print(\"Validation Loss:\", validation_results[0])\n",
    "print(\"Validation Categorical Accuracy:\", validation_results[1])\n",
    "print(\"Validation AUC:\", validation_results[2])\n",
    "\n",
    "\n"
   ],
   "metadata": {
    "collapsed": false,
    "ExecuteTime": {
     "end_time": "2024-01-27T19:39:26.974644Z",
     "start_time": "2024-01-27T19:39:23.266201Z"
    }
   },
   "execution_count": 16
  },
  {
   "cell_type": "code",
   "outputs": [
    {
     "ename": "KeyError",
     "evalue": "'auc'",
     "output_type": "error",
     "traceback": [
      "\u001B[0;31m---------------------------------------------------------------------------\u001B[0m",
      "\u001B[0;31mKeyError\u001B[0m                                  Traceback (most recent call last)",
      "Cell \u001B[0;32mIn[17], line 13\u001B[0m\n\u001B[1;32m     11\u001B[0m \u001B[38;5;66;03m# plotting auc and validation auc over epochs\u001B[39;00m\n\u001B[1;32m     12\u001B[0m ax2 \u001B[38;5;241m=\u001B[39m fig\u001B[38;5;241m.\u001B[39madd_subplot(\u001B[38;5;241m2\u001B[39m, \u001B[38;5;241m1\u001B[39m, \u001B[38;5;241m2\u001B[39m)\n\u001B[0;32m---> 13\u001B[0m ax2\u001B[38;5;241m.\u001B[39mplot(history\u001B[38;5;241m.\u001B[39mhistory[\u001B[38;5;124m'\u001B[39m\u001B[38;5;124mauc\u001B[39m\u001B[38;5;124m'\u001B[39m])\n\u001B[1;32m     14\u001B[0m ax2\u001B[38;5;241m.\u001B[39mplot(history\u001B[38;5;241m.\u001B[39mhistory[\u001B[38;5;124m'\u001B[39m\u001B[38;5;124mval_auc\u001B[39m\u001B[38;5;124m'\u001B[39m])\n\u001B[1;32m     15\u001B[0m ax2\u001B[38;5;241m.\u001B[39mset_title(\u001B[38;5;124m'\u001B[39m\u001B[38;5;124mmodel auc\u001B[39m\u001B[38;5;124m'\u001B[39m)\n",
      "\u001B[0;31mKeyError\u001B[0m: 'auc'"
     ]
    },
    {
     "data": {
      "text/plain": "<Figure size 640x480 with 2 Axes>",
      "image/png": "[encoded data removed]"
     },
     "metadata": {},
     "output_type": "display_data"
    }
   ],
   "source": [
    "# plotting categorical and validation accuracy over epochs\n",
    "fig = plt.figure()\n",
    "ax1 = fig.add_subplot(2, 1, 1)\n",
    "ax1.plot(history.history['categorical_accuracy'])\n",
    "ax1.plot(history.history['val_categorical_accuracy'])\n",
    "ax1.set_title('model accuracy')\n",
    "ax1.set_xlabel('epoch')\n",
    "ax1.set_ylabel('accuracy')\n",
    "ax1.legend(['train', 'validation'], loc='upper left')\n",
    "\n",
    "# plotting auc and validation auc over epochs\n",
    "ax2 = fig.add_subplot(2, 1, 2)\n",
    "ax2.plot(history.history['auc'])\n",
    "ax2.plot(history.history['val_auc'])\n",
    "ax2.set_title('model auc')\n",
    "ax2.set_xlabel('epoch')\n",
    "ax2.set_ylabel('auc')\n",
    "ax2.legend(['train', 'validation'], loc='upper left')\n",
    "\n",
    "plt.show()"
   ],
   "metadata": {
    "collapsed": false,
    "ExecuteTime": {
     "end_time": "2024-01-27T19:39:27.127623Z",
     "start_time": "2024-01-27T19:39:26.990888Z"
    }
   },
   "execution_count": 17
  },
  {
   "cell_type": "code",
   "outputs": [],
   "source": [
    "test_steps_per_epoch = numpy.math.ceil(validation_iterator.samples / validation_iterator.batch_size)\n",
    "predictions = model.predict(validation_iterator, steps=test_steps_per_epoch)\n",
    "test_steps_per_epoch = numpy.math.ceil(validation_iterator.samples / validation_iterator.batch_size)\n",
    "predicted_classes = numpy.argmax(predictions, axis=1)\n",
    "true_classes = validation_iterator.classes\n",
    "report = classification_report(true_classes, predicted_classes)\n",
    "print(report)   "
   ],
   "metadata": {
    "collapsed": false,
    "ExecuteTime": {
     "end_time": "2024-01-27T19:39:27.131442Z",
     "start_time": "2024-01-27T19:39:27.128653Z"
    }
   },
   "execution_count": null
  },
  {
   "cell_type": "code",
   "outputs": [],
   "source": [
    "cm=confusion_matrix(true_classes,predicted_classes)\n",
    "print(cm)"
   ],
   "metadata": {
    "collapsed": false,
    "ExecuteTime": {
     "start_time": "2024-01-27T19:39:27.130447Z"
    }
   },
   "execution_count": null
  },
  {
   "cell_type": "code",
   "outputs": [],
   "source": [],
   "metadata": {
    "collapsed": false,
    "ExecuteTime": {
     "start_time": "2024-01-27T19:39:27.132570Z"
    }
   }
  }
 ],
 "metadata": {
  "kernelspec": {
   "display_name": "Python 3",
   "language": "python",
   "name": "python3"
  },
  "language_info": {
   "codemirror_mode": {
    "name": "ipython",
    "version": 3
   },
   "file_extension": ".py",
   "mimetype": "text/x-python",
   "name": "python",
   "nbconvert_exporter": "python",
   "pygments_lexer": "ipython3",
   "version": "3.7.3"
  }
 },
 "nbformat": 4,
 "nbformat_minor": 2
}
