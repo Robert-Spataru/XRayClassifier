{
 "cells": [
  {
   "cell_type": "code",
   "execution_count": 1,
   "metadata": {
    "ExecuteTime": {
     "end_time": "2024-01-14T20:12:47.542725Z",
     "start_time": "2024-01-14T20:12:43.009906Z"
    }
   },
   "outputs": [],
   "source": [
    "#import python/ML modules\n",
    "\n",
    "import tensorflow as tf\n",
    "from tensorflow import keras\n",
    "from tensorflow.keras.models import Sequential\n",
    "from tensorflow.keras.preprocessing.image import ImageDataGenerator\n",
    "\n",
    "from sklearn.metrics import classification_report\n",
    "from sklearn.metrics import confusion_matrix\n",
    "\n",
    "from tensorflow.keras.callbacks import EarlyStopping\n",
    "from tensorflow.keras import layers\n",
    "\n",
    "import matplotlib.pyplot as plt\n",
    "import numpy"
   ]
  },
  {
   "cell_type": "code",
   "execution_count": 2,
   "metadata": {
    "ExecuteTime": {
     "end_time": "2024-01-14T20:12:47.591806Z",
     "start_time": "2024-01-14T20:12:47.551583Z"
    }
   },
   "outputs": [
    {
     "name": "stdout",
     "output_type": "stream",
     "text": [
      "Found 181 images belonging to 3 classes.\n",
      "Found 46 images belonging to 3 classes.\n"
     ]
    }
   ],
   "source": [
    "#load in image data\n",
    "\n",
    "import os\n",
    "main_folder = 'Covid19-dataset'\n",
    "subfolders = ['test', 'train']\n",
    "#pixel normalizer\n",
    "training_data_generator = ImageDataGenerator(rescale = 1./255, zoom_range = 0.1, rotation_range = 25, width_shift_range = 0.05, height_shift_range=0.05)\n",
    "validation_data_generator = ImageDataGenerator()\n",
    "#set batch size\n",
    "BATCH_SIZE = 32\n",
    "#set up generator for training data\n",
    "training_iterator = training_data_generator.flow_from_directory(directory = os.path.join(main_folder, subfolders[1]), class_mode = 'categorical',color_mode = 'grayscale',batch_size = BATCH_SIZE, classes = ['Covid', 'Normal', 'Viral Pneumonia'])\n",
    "#set up generator for validation data\n",
    "validation_iterator = validation_data_generator.flow_from_directory(directory = os.path.join(main_folder, subfolders[0]), class_mode = 'categorical', color_mode = 'grayscale', batch_size = BATCH_SIZE, classes = ['Covid', 'Normal', 'Viral Pneumonia'])"
   ]
  },
  {
   "cell_type": "code",
   "outputs": [
    {
     "name": "stdout",
     "output_type": "stream",
     "text": [
      "\n",
      "Compiling model...\n",
      "Model: \"sequential\"\n",
      "_________________________________________________________________\n",
      " Layer (type)                Output Shape              Param #   \n",
      "=================================================================\n",
      " conv2d (Conv2D)             (None, 84, 84, 5)         130       \n",
      "                                                                 \n",
      " max_pooling2d (MaxPooling2  (None, 42, 42, 5)         0         \n",
      " D)                                                              \n",
      "                                                                 \n",
      " dropout (Dropout)           (None, 42, 42, 5)         0         \n",
      "                                                                 \n",
      " conv2d_1 (Conv2D)           (None, 40, 40, 3)         138       \n",
      "                                                                 \n",
      " max_pooling2d_1 (MaxPoolin  (None, 20, 20, 3)         0         \n",
      " g2D)                                                            \n",
      "                                                                 \n",
      " dropout_1 (Dropout)         (None, 20, 20, 3)         0         \n",
      "                                                                 \n",
      " flatten (Flatten)           (None, 1200)              0         \n",
      "                                                                 \n",
      " dense (Dense)               (None, 3)                 3603      \n",
      "                                                                 \n",
      "=================================================================\n",
      "Total params: 3871 (15.12 KB)\n",
      "Trainable params: 3871 (15.12 KB)\n",
      "Non-trainable params: 0 (0.00 Byte)\n",
      "_________________________________________________________________\n"
     ]
    }
   ],
   "source": [
    "#creating a classification neural network model\n",
    "\n",
    "# sequential model\n",
    "model = Sequential()\n",
    "# add input layer with grayscale image shape\n",
    "model.add(tf.keras.Input(shape = (256, 256, 1)))\n",
    "# convolutional hidden layers with relu functions\n",
    "# maxpooling layers and dropout layers as well\n",
    "model.add(layers.Conv2D(5, 5, strides = 3, activation = \"relu\")) \n",
    "model.add(layers.MaxPooling2D(\n",
    "pool_size = (2, 2), strides = (2,2)))\n",
    "model.add(layers.Dropout(0.1))\n",
    "model.add(layers.Conv2D(3, 3, strides = 1, activation = \"relu\")) \n",
    "model.add(layers.MaxPooling2D(\n",
    "pool_size = (2, 2), strides = (2,2)))\n",
    "model.add(layers.Dropout(0.2))\n",
    "\n",
    "# experimenting with extra layers\n",
    "#model.add(tf.keras.layers.Conv2D(3, 3, strides=1, activation=\"relu\"))\n",
    "#model.add(tf.keras.layers.Conv2D(1, 1, strides=1, activation=\"relu\"))\n",
    "#model.add(tf.keras.layers.Dropout(0.1))\n",
    "\n",
    "model.add(layers.Flatten())\n",
    "# output layer with softmax activation function\n",
    "model.add(layers.Dense(3, activation = \"softmax\"))\n",
    "# compile model with Adam optimizer\n",
    "# loss function is categorical crossentropy\n",
    "# metrics are categorical accuracy and AUC\n",
    "print(\"\\nCompiling model...\")\n",
    "model.compile(optimizer = tf.keras.optimizers.legacy.Adam(learning_rate = .001), loss = tf.keras.losses.CategoricalCrossentropy(), metrics = [tf.keras.metrics.CategoricalAccuracy(), tf.keras.metrics.AUC()])\n",
    "# summarize model\n",
    "model.summary()"
   ],
   "metadata": {
    "collapsed": false,
    "ExecuteTime": {
     "end_time": "2024-01-14T20:12:47.669364Z",
     "start_time": "2024-01-14T20:12:47.568859Z"
    }
   },
   "execution_count": 3
  },
  {
   "cell_type": "code",
   "outputs": [
    {
     "name": "stdout",
     "output_type": "stream",
     "text": [
      "Epoch 1/5\n",
      "5/5 [==============================] - 1s 164ms/step - loss: 1.0347 - categorical_accuracy: 0.4144 - auc: 0.6756 - val_loss: 8.2214 - val_categorical_accuracy: 0.5000 - val_auc: 0.6641\n",
      "Epoch 2/5\n",
      "5/5 [==============================] - 1s 111ms/step - loss: 0.8329 - categorical_accuracy: 0.5193 - auc: 0.7605 - val_loss: 46.4709 - val_categorical_accuracy: 0.5652 - val_auc: 0.6739\n",
      "Epoch 3/5\n",
      "5/5 [==============================] - 1s 112ms/step - loss: 0.6659 - categorical_accuracy: 0.6354 - auc: 0.8358 - val_loss: 23.2171 - val_categorical_accuracy: 0.5652 - val_auc: 0.6739\n",
      "Epoch 4/5\n",
      "5/5 [==============================] - 1s 121ms/step - loss: 0.6215 - categorical_accuracy: 0.6519 - auc: 0.8679 - val_loss: 13.2106 - val_categorical_accuracy: 0.6957 - val_auc: 0.7684\n",
      "Epoch 5/5\n",
      "5/5 [==============================] - 1s 113ms/step - loss: 0.5843 - categorical_accuracy: 0.7017 - auc: 0.8779 - val_loss: 10.5336 - val_categorical_accuracy: 0.6957 - val_auc: 0.7977\n",
      "1/1 [==============================] - 0s 38ms/step - loss: 10.5336 - categorical_accuracy: 0.6957 - auc: 0.7977\n",
      "Validation Loss: 10.533585548400879\n",
      "Validation Categorical Accuracy: 0.695652186870575\n",
      "Validation AUC: 0.7977316379547119\n"
     ]
    }
   ],
   "source": [
    "#test out the model\n",
    "\n",
    "epochs = 5\n",
    "early_stopping = EarlyStopping(monitor='val_auc', mode='min', verbose=1, patience=20)\n",
    "\n",
    "\n",
    "history = model.fit(training_iterator, steps_per_epoch=training_iterator.samples/BATCH_SIZE, epochs = 5, validation_data = validation_iterator, validation_steps = validation_iterator.samples/BATCH_SIZE, callbacks=[early_stopping])\n",
    "\n",
    "validation_results = model.evaluate(validation_iterator, steps = validation_iterator.samples/BATCH_SIZE)\n",
    "\n",
    "print(\"Validation Loss:\", validation_results[0])\n",
    "print(\"Validation Categorical Accuracy:\", validation_results[1])\n",
    "print(\"Validation AUC:\", validation_results[2])\n",
    "\n",
    "\n"
   ],
   "metadata": {
    "collapsed": false,
    "ExecuteTime": {
     "end_time": "2024-01-14T20:12:51.644785Z",
     "start_time": "2024-01-14T20:12:47.663627Z"
    }
   },
   "execution_count": 4
  },
  {
   "cell_type": "code",
   "outputs": [
    {
     "data": {
      "text/plain": "<Figure size 640x480 with 2 Axes>",
      "image/png": "[encoded data removed]"
     },
     "metadata": {},
     "output_type": "display_data"
    }
   ],
   "source": [
    "# plotting categorical and validation accuracy over epochs\n",
    "fig = plt.figure()\n",
    "ax1 = fig.add_subplot(2, 1, 1)\n",
    "ax1.plot(history.history['categorical_accuracy'])\n",
    "ax1.plot(history.history['val_categorical_accuracy'])\n",
    "ax1.set_title('model accuracy')\n",
    "ax1.set_xlabel('epoch')\n",
    "ax1.set_ylabel('accuracy')\n",
    "ax1.legend(['train', 'validation'], loc='upper left')\n",
    "\n",
    "# plotting auc and validation auc over epochs\n",
    "ax2 = fig.add_subplot(2, 1, 2)\n",
    "ax2.plot(history.history['auc'])\n",
    "ax2.plot(history.history['val_auc'])\n",
    "ax2.set_title('model auc')\n",
    "ax2.set_xlabel('epoch')\n",
    "ax2.set_ylabel('auc')\n",
    "ax2.legend(['train', 'validation'], loc='upper left')\n",
    "\n",
    "plt.show()"
   ],
   "metadata": {
    "collapsed": false,
    "ExecuteTime": {
     "end_time": "2024-01-14T20:13:29.719459Z",
     "start_time": "2024-01-14T20:13:29.605822Z"
    }
   },
   "execution_count": 6
  },
  {
   "cell_type": "code",
   "outputs": [
    {
     "name": "stdout",
     "output_type": "stream",
     "text": [
      "2/2 [==============================] - 0s 18ms/step\n",
      "              precision    recall  f1-score   support\n",
      "\n",
      "           0       0.55      0.85      0.67        26\n",
      "           1       0.33      0.10      0.15        20\n",
      "\n",
      "    accuracy                           0.52        46\n",
      "   macro avg       0.44      0.47      0.41        46\n",
      "weighted avg       0.46      0.52      0.44        46\n"
     ]
    }
   ],
   "source": [
    "test_steps_per_epoch = numpy.math.ceil(validation_iterator.samples / validation_iterator.batch_size)\n",
    "predictions = model.predict(validation_iterator, steps=test_steps_per_epoch)\n",
    "test_steps_per_epoch = numpy.math.ceil(validation_iterator.samples / validation_iterator.batch_size)\n",
    "predicted_classes = numpy.argmax(predictions, axis=1)\n",
    "true_classes = validation_iterator.classes\n",
    "report = classification_report(true_classes, predicted_classes)\n",
    "print(report)   "
   ],
   "metadata": {
    "collapsed": false,
    "ExecuteTime": {
     "end_time": "2024-01-14T20:13:33.168344Z",
     "start_time": "2024-01-14T20:13:32.969880Z"
    }
   },
   "execution_count": 7
  },
  {
   "cell_type": "code",
   "outputs": [
    {
     "name": "stdout",
     "output_type": "stream",
     "text": [
      "[[22  4]\n",
      " [18  2]]\n"
     ]
    }
   ],
   "source": [
    "cm=confusion_matrix(true_classes,predicted_classes)\n",
    "print(cm)"
   ],
   "metadata": {
    "collapsed": false,
    "ExecuteTime": {
     "end_time": "2024-01-14T20:13:33.858259Z",
     "start_time": "2024-01-14T20:13:33.853266Z"
    }
   },
   "execution_count": 8
  },
  {
   "cell_type": "code",
   "outputs": [],
   "source": [],
   "metadata": {
    "collapsed": false
   }
  }
 ],
 "metadata": {
  "kernelspec": {
   "display_name": "Python 3",
   "language": "python",
   "name": "python3"
  },
  "language_info": {
   "codemirror_mode": {
    "name": "ipython",
    "version": 3
   },
   "file_extension": ".py",
   "mimetype": "text/x-python",
   "name": "python",
   "nbconvert_exporter": "python",
   "pygments_lexer": "ipython3",
   "version": "3.7.3"
  }
 },
 "nbformat": 4,
 "nbformat_minor": 2
}
